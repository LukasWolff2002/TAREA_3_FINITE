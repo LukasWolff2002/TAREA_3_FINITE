{
 "cells": [
  {
   "cell_type": "code",
   "execution_count": 1,
   "id": "f9a623b2",
   "metadata": {},
   "outputs": [],
   "source": [
    "import os\n",
    "import numpy as np\n",
    "import matplotlib.pyplot as plt\n",
    "import gmsh\n",
    "import meshio\n",
    "\n",
    "import matplotlib.pyplot as plt\n",
    "import matplotlib.tri as mtri\n",
    "import numpy as np\n",
    "import re\n",
    "import os"
   ]
  },
  {
   "cell_type": "code",
   "execution_count": 2,
   "id": "00e5580a",
   "metadata": {},
   "outputs": [],
   "source": [
    "input_file = 'test.geo'\n",
    "output_file = 'test.msh'"
   ]
  },
  {
   "cell_type": "code",
   "execution_count": 3,
   "id": "16fabca4",
   "metadata": {},
   "outputs": [
    {
     "name": "stdout",
     "output_type": "stream",
     "text": [
      "Info    : Reading 'test.geo'...\n",
      "Info    : Done reading 'test.geo'\n",
      "Info    : Meshing 1D...\n",
      "Info    : [  0%] Meshing curve 1 (Line)\n",
      "Info    : [ 30%] Meshing curve 2 (Line)\n",
      "Info    : [ 60%] Meshing curve 3 (Line)\n",
      "Info    : [ 80%] Meshing curve 4 (Line)\n",
      "Info    : Done meshing 1D (Wall 0.000186583s, CPU 0.000218s)\n",
      "Info    : Meshing 2D...\n",
      "Info    : Meshing surface 1 (Plane, Frontal-Delaunay)\n",
      "Info    : Blossom: 107 internal 44 closed\n",
      "Info    : Blossom recombination completed (Wall 0.000943541s, CPU 0.000936s): 43 quads, 0 triangles, 0 invalid quads, 0 quads with Q < 0.1, avg Q = 0.857335, min Q = 0.522296\n",
      "Info    : Done meshing 2D (Wall 0.00426246s, CPU 0.004246s)\n",
      "Info    : 66 nodes 91 elements\n",
      "Info    : Writing 'test.msh'...\n",
      "Info    : Done writing 'test.msh'\n"
     ]
    }
   ],
   "source": [
    "def generate_quad2d_mesh(input_file, output_file, lc=50):\n",
    "    gmsh.initialize()\n",
    "    gmsh.open(input_file)\n",
    "\n",
    "    # Fijar tamaño de elementos\n",
    "    gmsh.option.setNumber(\"Mesh.CharacteristicLengthMin\", lc)\n",
    "    gmsh.option.setNumber(\"Mesh.CharacteristicLengthMax\", lc)\n",
    "\n",
    "    # Recombinación: convierte triángulos en cuadriláteros\n",
    "    gmsh.option.setNumber(\"Mesh.RecombineAll\", 1)\n",
    "    \n",
    "    # Sincronizar geometría y generar malla 2D\n",
    "    gmsh.model.geo.synchronize()\n",
    "    gmsh.model.mesh.generate(2)\n",
    "\n",
    "    # Guardar archivo de salida\n",
    "    gmsh.write(output_file)\n",
    "    gmsh.finalize()\n",
    "\n",
    "generate_quad2d_mesh(input_file, output_file)"
   ]
  },
  {
   "cell_type": "code",
   "execution_count": 4,
   "id": "4994dfcf",
   "metadata": {},
   "outputs": [
    {
     "name": "stdout",
     "output_type": "stream",
     "text": [
      "\n"
     ]
    },
    {
     "data": {
      "image/png": "[encoded data removed]",
      "text/plain": [
       "<Figure size 700x70 with 1 Axes>"
      ]
     },
     "metadata": {},
     "output_type": "display_data"
    }
   ],
   "source": [
    "import meshio\n",
    "from nodes import Node\n",
    "\n",
    "def make_nodes_groups(output_file, title):\n",
    "    mesh = meshio.read(output_file)\n",
    "    \n",
    "    # Traducimos los tags físicos a nombres\n",
    "    tag_to_name = {v[0]: k for k, v in mesh.field_data.items()}\n",
    "    grupos = {}\n",
    "\n",
    "    # Elementos tipo \"quad\" → para el dominio estructural\n",
    "    for cell_block, phys_tags in zip(mesh.cells, mesh.cell_data[\"gmsh:physical\"]):\n",
    "        if cell_block.type != \"quad\":\n",
    "            continue\n",
    "        for quad, tag in zip(cell_block.data, phys_tags):\n",
    "            nombre = tag_to_name.get(tag, f\"{tag}\")\n",
    "            if nombre not in grupos:\n",
    "                grupos[nombre] = []\n",
    "            for node_id in quad:\n",
    "                x, y = mesh.points[node_id][:2]\n",
    "                grupos[nombre].append(Node(node_id + 1, [x, y]))\n",
    "\n",
    "    # Elementos tipo \"line\" → condiciones de borde\n",
    "    for cell_block, phys_tags in zip(mesh.cells, mesh.cell_data[\"gmsh:physical\"]):\n",
    "        if cell_block.type != \"line\":\n",
    "            continue\n",
    "        for line, tag in zip(cell_block.data, phys_tags):\n",
    "            nombre = tag_to_name.get(tag, f\"{tag}\")\n",
    "            if nombre not in grupos:\n",
    "                grupos[nombre] = []\n",
    "            for node_id in line:\n",
    "                x, y = mesh.points[node_id][:2]\n",
    "                restrain = [0, 0]\n",
    "                if nombre in [\"Restr XY\"]:\n",
    "                    restrain = [1, 1]\n",
    "                grupos[nombre].append(Node(node_id + 1, [x, y], restrain=restrain))\n",
    "\n",
    "    # Eliminar nodos duplicados por grupo (según id)\n",
    "    for nombre in grupos:\n",
    "        nodos_unicos = {}\n",
    "        for nodo in grupos[nombre]:\n",
    "            nodos_unicos[nodo.index] = nodo\n",
    "        grupos[nombre] = list(nodos_unicos.values())\n",
    "\n",
    "    # Visualización opcional\n",
    "    Node.plot_nodes_por_grupo(grupos, title, show_ids=False, save=False)\n",
    "\n",
    "    return grupos, mesh\n",
    "\n",
    "grupos, mesh = make_nodes_groups(output_file, \"test\")"
   ]
  },
  {
   "cell_type": "code",
   "execution_count": 5,
   "id": "a684df9d",
   "metadata": {},
   "outputs": [],
   "source": [
    "from material import Material\n",
    "\n",
    "class Membrane:\n",
    "    def __init__(self, thickness, material):\n",
    "        self.thickness = thickness\n",
    "        self.material = material\n",
    "\n",
    "def make_sections(grupos):\n",
    "    thickness_dict = {\"1\": 100}\n",
    "    sections = {}\n",
    "\n",
    "    for group in thickness_dict:\n",
    "        material = Material(E=200e3, nu=0.36, gamma=7800e-9)\n",
    "        sections[group] = Membrane(thickness_dict[group], material)\n",
    "\n",
    "    nodes_dict = {}\n",
    "    for group in grupos:\n",
    "        for node in grupos[group]:\n",
    "            nodes_dict[node.index] = node\n",
    "\n",
    "    return sections, nodes_dict\n",
    "\n",
    "sections, nodes_dict = make_sections(grupos)\n"
   ]
  },
  {
   "cell_type": "code",
   "execution_count": 6,
   "id": "f78dcf85",
   "metadata": {},
   "outputs": [],
   "source": [
    "#bien, ahora creo los elementos\n",
    "\n",
    "from Quad2D import Quad2D\n",
    "\n",
    "def make_quad2d_elements(mesh, sections, nodes_dict):\n",
    "    quads = mesh.cells_dict.get('quad', [])\n",
    "    tags = mesh.cell_data_dict[\"gmsh:physical\"].get(\"quad\", [])\n",
    "    elements = []\n",
    "    used_nodes = set()\n",
    "    nodos_faltantes = []\n",
    "\n",
    "    for i in range(len(tags)):\n",
    "        section_tag = str(tags[i])\n",
    "        if section_tag not in sections:\n",
    "            print(f\"⚠️ Tag físico {section_tag} no tiene sección asociada. Elemento {i+1} omitido.\")\n",
    "            continue\n",
    "\n",
    "        section = sections[section_tag]\n",
    "        node_ids = quads[i]\n",
    "\n",
    "        try:\n",
    "            nodos = [nodes_dict[node_id + 1] for node_id in node_ids]\n",
    "        except KeyError as e:\n",
    "            nodos_faltantes.append(node_ids)\n",
    "            print(f\"❌ Nodo no encontrado en nodes_dict: {e}\")\n",
    "            continue\n",
    "\n",
    "        for nodo in nodos:\n",
    "            used_nodes.add(nodo)\n",
    "\n",
    "        #print(nodos)\n",
    "\n",
    "        element = Quad2D(i + 1, nodos, section)\n",
    "        elements.append(element)\n",
    "\n",
    "    if nodos_faltantes:\n",
    "        print(f\"❌ Se omitieron {len(nodos_faltantes)} elementos por nodos faltantes.\")\n",
    "    \n",
    "    return elements, list(used_nodes)\n",
    "\n",
    "\n",
    "elements, used_nodes = make_quad2d_elements(mesh, sections, nodes_dict)"
   ]
  },
  {
   "cell_type": "code",
   "execution_count": 7,
   "id": "2dafdd32",
   "metadata": {},
   "outputs": [
    {
     "data": {
      "image/png": "[encoded data removed]",
      "text/plain": [
       "<Figure size 800x80 with 1 Axes>"
      ]
     },
     "metadata": {},
     "output_type": "display_data"
    }
   ],
   "source": [
    "import numpy as np\n",
    "import matplotlib.pyplot as plt\n",
    "\n",
    "def plot_all_elements(elements, title, show_ids=True):\n",
    "    all_x = []\n",
    "    all_y = []\n",
    "\n",
    "    # Recopilar coordenadas de todos los nodos\n",
    "    for elem in elements:\n",
    "        coords = elem.xy  # accede directamente a las coordenadas\n",
    "        coords = np.vstack([coords, coords[0]])  # cerrar el polígono\n",
    "        all_x.extend(coords[:, 0])\n",
    "        all_y.extend(coords[:, 1])\n",
    "\n",
    "    # Márgenes y límites\n",
    "    x_min, x_max = min(all_x), max(all_x)\n",
    "    y_min, y_max = min(all_y), max(all_y)\n",
    "    x_margin = (x_max - x_min) * 0.05\n",
    "    y_margin = (y_max - y_min) * 0.05\n",
    "\n",
    "    x_range = (x_max - x_min) + 2 * x_margin\n",
    "    y_range = (y_max - y_min) + 2 * y_margin\n",
    "\n",
    "    fixed_width = 8\n",
    "    aspect_ratio = y_range / x_range\n",
    "    height = fixed_width * aspect_ratio\n",
    "\n",
    "    fig, ax = plt.subplots(figsize=(fixed_width, height))\n",
    "\n",
    "    for elem in elements:\n",
    "        coords = elem.xy\n",
    "        coords = np.vstack([coords, coords[0]])  # cerrar el polígono\n",
    "\n",
    "        ax.plot(coords[:, 0], coords[:, 1], 'k-', linewidth=1)\n",
    "\n",
    "        if show_ids:\n",
    "            for nodo, (x, y) in zip(elem.node_list, coords[:-1]):\n",
    "                ax.text(x, y, f'N{nodo.index}', color='black', fontsize=6, ha='center', va='center')\n",
    "\n",
    "    ax.set_xlim(x_min - x_margin, x_max + x_margin)\n",
    "    ax.set_ylim(y_min - y_margin, y_max + y_margin)\n",
    "    ax.set_aspect('equal', adjustable='box')\n",
    "    ax.set_xlabel(\"x\")\n",
    "    ax.set_ylabel(\"y\")\n",
    "    ax.set_title(\"All Quad2D elements\")\n",
    "    ax.grid(True)\n",
    "\n",
    "    plt.show()\n",
    "\n",
    "plot_all_elements(elements, \"All Quad2D elements\", show_ids=True)"
   ]
  },
  {
   "cell_type": "code",
   "execution_count": 8,
   "id": "890dbf66",
   "metadata": {},
   "outputs": [],
   "source": [
    "from solve import Solve\n",
    "\n",
    "estructure = Solve(used_nodes, elements)\n",
    "\n"
   ]
  },
  {
   "cell_type": "code",
   "execution_count": 9,
   "id": "898f3129",
   "metadata": {},
   "outputs": [
    {
     "name": "stdout",
     "output_type": "stream",
     "text": [
      "Nodo 2 ← Fx = -250.000 N, Fy = 0.000 N\n",
      "Nodo 24 ← Fx = -500.000 N, Fy = 0.000 N\n",
      "Nodo 3 ← Fx = -250.000 N, Fy = 0.000 N\n"
     ]
    }
   ],
   "source": [
    "def apply_distributed_force(grupo_nodos, fuerza_total_y, estructura):\n",
    "    \"\"\"\n",
    "    Aplica una fuerza distribuida vertical (por ejemplo, peso) sobre una línea formada por nodos.\n",
    "    La fuerza se reparte proporcionalmente a la longitud de los tramos y se descompone en x e y.\n",
    "    \"\"\"\n",
    "\n",
    "    nodos = grupo_nodos\n",
    "    n = len(nodos)\n",
    "    if n < 2:\n",
    "        print(\"Se requieren al menos dos nodos para aplicar fuerza distribuida.\")\n",
    "        return\n",
    "\n",
    "    # Paso 1: calcular longitud total\n",
    "    longitudes = []\n",
    "    total_length = 0\n",
    "    for i in range(n - 1):\n",
    "        dx = nodos[i+1].coord[0] - nodos[i].coord[0]\n",
    "        dy = nodos[i+1].coord[1] - nodos[i].coord[1]\n",
    "        L = np.sqrt(dx**2 + dy**2)\n",
    "        longitudes.append(L)\n",
    "        total_length += L\n",
    "\n",
    "    q_lineal = fuerza_total_y / total_length  # fuerza por metro\n",
    "\n",
    "    # Paso 2: inicializar diccionario de fuerzas\n",
    "    nodal_forces = {node.index: np.array([0.0, 0.0]) for node in nodos}\n",
    "\n",
    "    for i in range(n - 1):\n",
    "        ni = nodos[i]\n",
    "        nj = nodos[i + 1]\n",
    "        xi, yi = ni.coord\n",
    "        xj, yj = nj.coord\n",
    "\n",
    "        dx = xj - xi\n",
    "        dy = yj - yi\n",
    "        L = longitudes[i]\n",
    "\n",
    "        # Vector perpendicular hacia \"abajo\"\n",
    "        vx = dx / L\n",
    "        vy = dy / L\n",
    "        nx = -vy\n",
    "        ny = vx\n",
    "\n",
    "        Fi = q_lineal * L\n",
    "        fx = Fi * nx\n",
    "        fy = Fi * ny\n",
    "\n",
    "        nodal_forces[ni.index] += np.array([fx / 2, fy / 2])\n",
    "        nodal_forces[nj.index] += np.array([fx / 2, fy / 2])\n",
    "\n",
    "    # Paso 3: aplicar fuerzas al sistema\n",
    "    for node in nodos:\n",
    "        fx, fy = nodal_forces[node.index]\n",
    "        dof_x, dof_y = node.dofs\n",
    "        #estructura.apply_force(dof_x, fx)\n",
    "        estructura.apply_force(dof_y, fx)\n",
    "        print(f\"Nodo {node.index} ← Fx = {fx:.3f} N, Fy = {fy:.3f} N\")\n",
    "\n",
    "\n",
    "nodos_fuerza = grupos[\"Fuerza\"]\n",
    "apply_distributed_force(nodos_fuerza, fuerza_total_y=1000, estructura=estructure)"
   ]
  },
  {
   "cell_type": "code",
   "execution_count": 10,
   "id": "1b7451ad",
   "metadata": {},
   "outputs": [
    {
     "name": "stdout",
     "output_type": "stream",
     "text": [
      "🔧 Ensamblando matriz global...\n",
      "DOFs used: [np.int64(1), np.int64(2), np.int64(3), np.int64(4), np.int64(5), np.int64(6), np.int64(7), np.int64(8), np.int64(9), np.int64(10), np.int64(11), np.int64(12), np.int64(13), np.int64(14), np.int64(15), np.int64(16), np.int64(17), np.int64(18), np.int64(19), np.int64(20), np.int64(21), np.int64(22), np.int64(23), np.int64(24), np.int64(25), np.int64(26), np.int64(27), np.int64(28), np.int64(29), np.int64(30), np.int64(31), np.int64(32), np.int64(33), np.int64(34), np.int64(35), np.int64(36), np.int64(37), np.int64(38), np.int64(39), np.int64(40), np.int64(41), np.int64(42), np.int64(43), np.int64(44), np.int64(45), np.int64(46), np.int64(47), np.int64(48), np.int64(49), np.int64(50), np.int64(51), np.int64(52), np.int64(53), np.int64(54), np.int64(55), np.int64(56), np.int64(57), np.int64(58), np.int64(59), np.int64(60), np.int64(61), np.int64(62), np.int64(63), np.int64(64), np.int64(65), np.int64(66), np.int64(67), np.int64(68), np.int64(69), np.int64(70), np.int64(71), np.int64(72), np.int64(73), np.int64(74), np.int64(75), np.int64(76), np.int64(77), np.int64(78), np.int64(79), np.int64(80), np.int64(81), np.int64(82), np.int64(83), np.int64(84), np.int64(85), np.int64(86), np.int64(87), np.int64(88), np.int64(89), np.int64(90), np.int64(91), np.int64(92), np.int64(93), np.int64(94), np.int64(95), np.int64(96), np.int64(97), np.int64(98), np.int64(99), np.int64(100), np.int64(101), np.int64(102), np.int64(103), np.int64(104), np.int64(105), np.int64(106), np.int64(107), np.int64(108), np.int64(109), np.int64(110), np.int64(111), np.int64(112), np.int64(113), np.int64(114), np.int64(115), np.int64(116), np.int64(117), np.int64(118), np.int64(119), np.int64(120), np.int64(121), np.int64(122), np.int64(123), np.int64(124), np.int64(125), np.int64(126), np.int64(127), np.int64(128), np.int64(129), np.int64(130), np.int64(131), np.int64(132)]\n",
      "[[1.00000000e+00 0.00000000e+00 0.00000000e+00 ... 0.00000000e+00\n",
      "  0.00000000e+00 0.00000000e+00]\n",
      " [0.00000000e+00 1.00000000e+00 0.00000000e+00 ... 0.00000000e+00\n",
      "  0.00000000e+00 0.00000000e+00]\n",
      " [0.00000000e+00 0.00000000e+00 1.12130832e+07 ... 0.00000000e+00\n",
      "  0.00000000e+00 0.00000000e+00]\n",
      " ...\n",
      " [0.00000000e+00 0.00000000e+00 0.00000000e+00 ... 5.46937053e+07\n",
      "  0.00000000e+00 0.00000000e+00]\n",
      " [0.00000000e+00 0.00000000e+00 0.00000000e+00 ... 0.00000000e+00\n",
      "  3.88178994e+07 5.71373841e+06]\n",
      " [0.00000000e+00 0.00000000e+00 0.00000000e+00 ... 0.00000000e+00\n",
      "  5.71373841e+06 4.85519789e+07]]\n"
     ]
    }
   ],
   "source": [
    "desplazamientos = estructure.solve()"
   ]
  },
  {
   "cell_type": "code",
   "execution_count": 11,
   "id": "1e024b3f",
   "metadata": {},
   "outputs": [
    {
     "data": {
      "image/png": "[encoded data removed]",
      "text/plain": [
       "<Figure size 800x600 with 1 Axes>"
      ]
     },
     "metadata": {},
     "output_type": "display_data"
    }
   ],
   "source": [
    "import matplotlib.pyplot as plt\n",
    "import numpy as np\n",
    "\n",
    "def plot_deformed_structure(elements, u_global, scale=1.0, show_original=True, title=\"Deformada\"):\n",
    "    \"\"\"\n",
    "    Grafica la estructura deformada a partir de los elementos y desplazamientos globales.\n",
    "    \n",
    "    Args:\n",
    "        elements (list): Lista de elementos (Quad2D).\n",
    "        u_global (ndarray): Vector global de desplazamientos (del solver).\n",
    "        scale (float): Factor de escala para amplificar la deformación visualmente.\n",
    "        show_original (bool): Si True, también grafica la geometría original.\n",
    "        title (str): Título del gráfico.\n",
    "    \"\"\"\n",
    "    fig, ax = plt.subplots(figsize=(8, 6))\n",
    "    ax.set_aspect('equal')\n",
    "    \n",
    "    for elem in elements:\n",
    "        # Coordenadas originales\n",
    "        xy = elem.xy\n",
    "        coords = np.vstack([xy, xy[0]])  # cerrar polígono\n",
    "\n",
    "        if show_original:\n",
    "            ax.plot(coords[:, 0], coords[:, 1], 'k--', linewidth=0.5, alpha=0.5)\n",
    "\n",
    "        # Coordenadas deformadas\n",
    "        idx = elem.calculate_indices()\n",
    "        u_elem = u_global[idx].flatten()\n",
    "\n",
    "        xy_def = xy + scale * u_elem.reshape(-1, 2)\n",
    "        coords_def = np.vstack([xy_def, xy_def[0]])\n",
    "\n",
    "        ax.plot(coords_def[:, 0], coords_def[:, 1], 'b-', linewidth=1)\n",
    "\n",
    "    ax.set_xlabel(\"x\")\n",
    "    ax.set_ylabel(\"y\")\n",
    "    ax.set_title(title)\n",
    "    ax.grid(True)\n",
    "    plt.show()\n",
    "\n",
    "\n",
    "plot_deformed_structure(elements, desplazamientos, scale=10.0, show_original=True, title=\"Deformada\")"
   ]
  },
  {
   "cell_type": "code",
   "execution_count": 12,
   "id": "fd2fd439",
   "metadata": {},
   "outputs": [
    {
     "name": "stdout",
     "output_type": "stream",
     "text": [
      "📌 Sumatoria total de reacciones: Rx = -0.000 N, Ry = 1000.000 N, ||R|| = 1000.000 N\n",
      "🔧 Mínimo FS Tracción: 77.168\n",
      "🔧 Mínimo FS Compresión: 76.582\n"
     ]
    }
   ],
   "source": [
    "from graph import plot_results\n",
    "plot_results(\n",
    "    estructure,\n",
    "    elements,\n",
    "    title=\"mi_estructura\",\n",
    "    def_scale=50,\n",
    "    force_scale=1,\n",
    "    reaction_scale=1e-2,\n",
    "    sigma_y_tension=250, \n",
    "    sigma_y_compression=250\n",
    ")"
   ]
  },
  {
   "cell_type": "code",
   "execution_count": 13,
   "id": "c40fced6",
   "metadata": {},
   "outputs": [
    {
     "name": "stdout",
     "output_type": "stream",
     "text": [
      "📌 El desplazamiento vertical del nodo (2) es: -0.170348 mm\n",
      "📌 El desplazamiento vertical del nodo (24) es: -0.170337 mm\n",
      "📌 El desplazamiento vertical del nodo (3) es: -0.170348 mm\n"
     ]
    }
   ],
   "source": [
    "for node in used_nodes:\n",
    "    if node.coord[0] == 1000 and node.coord[1] <= 100:\n",
    "        dof_y = node.dofs[1]  # Segundo DOF (desplazamiento vertical)\n",
    "        uy = node.structure.u_global[dof_y, 0]\n",
    "        print(f'📌 El desplazamiento vertical del nodo ({node.index}) es: {uy:.6f} mm')\n"
   ]
  }
 ],
 "metadata": {
  "kernelspec": {
   "display_name": "Python 3",
   "language": "python",
   "name": "python3"
  },
  "language_info": {
   "codemirror_mode": {
    "name": "ipython",
    "version": 3
   },
   "file_extension": ".py",
   "mimetype": "text/x-python",
   "name": "python",
   "nbconvert_exporter": "python",
   "pygments_lexer": "ipython3",
   "version": "3.12.5"
  }
 },
 "nbformat": 4,
 "nbformat_minor": 5
}
